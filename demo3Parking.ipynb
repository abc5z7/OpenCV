{
 "cells": [
  {
   "cell_type": "code",
   "execution_count": 1,
   "id": "initial_id",
   "metadata": {
    "ExecuteTime": {
     "end_time": "2025-07-14T11:42:21.076366Z",
     "start_time": "2025-07-14T11:42:18.861379Z"
    },
    "collapsed": true
   },
   "outputs": [],
   "source": [
    "from __future__ import division\n",
    "import matplotlib.pyplot as plt\n",
    "import cv2\n",
    "import os, glob\n",
    "import numpy as np\n",
    "from PIL import Image\n",
    "from keras.applications.imagenet_utils import preprocess_input\n",
    "from keras.models import load_model\n",
    "from keras.preprocessing import image\n",
    "from lib.Parking import Parking\n",
    "import pickle\n",
    "cwd = os.getcwd()\n",
    "\n",
    "def img_process(test_images,park):\n",
    "    white_yellow_images = list(map(park.select_rgb_white_yellow, test_images))\n",
    "    park.show_images(white_yellow_images)\n",
    "    \n",
    "    gray_images = list(map(park.convert_gray_scale, white_yellow_images))\n",
    "    park.show_images(gray_images)\n",
    "    \n",
    "    edge_images = list(map(lambda image: park.detect_edges(image), gray_images))\n",
    "    park.show_images(edge_images)\n",
    "    \n",
    "    roi_images = list(map(park.select_region, edge_images))\n",
    "    park.show_images(roi_images)\n",
    "    \n",
    "    list_of_lines = list(map(park.hough_lines, roi_images))\n",
    "    \n",
    "    line_images = []\n",
    "    for image, lines in zip(test_images, list_of_lines):\n",
    "        line_images.append(park.draw_lines(image, lines)) \n",
    "    park.show_images(line_images)\n",
    "    \n",
    "    rect_images = []\n",
    "    rect_coords = []\n",
    "    for image, lines in zip(test_images, list_of_lines):\n",
    "        new_image, rects = park.identify_blocks(image, lines)\n",
    "        rect_images.append(new_image)\n",
    "        rect_coords.append(rects)\n",
    "        \n",
    "    park.show_images(rect_images)\n",
    "    \n",
    "    delineated = []\n",
    "    spot_pos = []\n",
    "    for image, rects in zip(test_images, rect_coords):\n",
    "        new_image, spot_dict = park.draw_parking(image, rects)\n",
    "        delineated.append(new_image)\n",
    "        spot_pos.append(spot_dict)\n",
    "        \n",
    "    park.show_images(delineated)\n",
    "    final_spot_dict = spot_pos[1]\n",
    "    print(len(final_spot_dict))\n",
    "\n",
    "    with open('spot_dict.pickle', 'wb') as handle:\n",
    "        pickle.dump(final_spot_dict, handle, protocol=pickle.HIGHEST_PROTOCOL)\n",
    "    \n",
    "    park.save_images_for_cnn(test_images[0],final_spot_dict)\n",
    "    \n",
    "    return final_spot_dict\n",
    "def keras_model(weights_path):    \n",
    "    model = load_model(weights_path)\n",
    "    return model\n",
    "def img_test(test_images,final_spot_dict,model,class_dictionary):\n",
    "    for i in range (len(test_images)):\n",
    "        predicted_images = park.predict_on_image(test_images[i],final_spot_dict,model,class_dictionary)\n",
    "def video_test(video_name,final_spot_dict,model,class_dictionary):\n",
    "    name = video_name\n",
    "    cap = cv2.VideoCapture(name)\n",
    "    park.predict_on_video(name,final_spot_dict,model,class_dictionary,ret=True)\n"
   ]
  },
  {
   "cell_type": "code",
   "execution_count": null,
   "id": "fba522a6",
   "metadata": {},
   "outputs": [],
   "source": [
    "test_images = [plt.imread(path) for path in glob.glob('src/Parking/test_images/*.jpg')]\n",
    "weights_path = 'src/Parking/car1.h5'\n",
    "video_name = 'src/Parking/parking_video.mp4'\n",
    "class_dictionary = {}\n",
    "class_dictionary[0] = 'empty'\n",
    "class_dictionary[1] = 'occupied'\n",
    "park = Parking()\n",
    "\n",
    "park.show_images(test_images)\n"
   ]
  },
  {
   "cell_type": "code",
   "execution_count": null,
   "id": "929a594b",
   "metadata": {},
   "outputs": [],
   "source": [
    "\n",
    "final_spot_dict = img_process(test_images,park)\n"
   ]
  },
  {
   "cell_type": "code",
   "execution_count": null,
   "id": "5c9f7e77",
   "metadata": {},
   "outputs": [],
   "source": [
    "\n",
    "model = keras_model(weights_path)\n"
   ]
  },
  {
   "cell_type": "code",
   "execution_count": null,
   "id": "22d44b9f",
   "metadata": {},
   "outputs": [],
   "source": [
    "\n",
    "img_test(test_images,final_spot_dict,model,class_dictionary)\n"
   ]
  },
  {
   "cell_type": "code",
   "execution_count": null,
   "id": "24f7a59f",
   "metadata": {},
   "outputs": [],
   "source": [
    "\n",
    "video_test(video_name,final_spot_dict,model,class_dictionary)\n"
   ]
  },
  {
   "cell_type": "code",
   "execution_count": null,
   "id": "4266a333cd0ab892",
   "metadata": {},
   "outputs": [],
   "source": []
  }
 ],
 "metadata": {
  "kernelspec": {
   "display_name": "OpenCV",
   "language": "python",
   "name": "python3"
  },
  "language_info": {
   "codemirror_mode": {
    "name": "ipython",
    "version": 3
   },
   "file_extension": ".py",
   "mimetype": "text/x-python",
   "name": "python",
   "nbconvert_exporter": "python",
   "pygments_lexer": "ipython3",
   "version": "3.6.13"
  }
 },
 "nbformat": 4,
 "nbformat_minor": 5
}
